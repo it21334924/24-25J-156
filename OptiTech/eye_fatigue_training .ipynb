{
  "cells": [
    {
      "cell_type": "code",
      "execution_count": 34,
      "metadata": {
        "id": "DwBHQwg2J2fO"
      },
      "outputs": [],
      "source": [
        "import os\n",
        "import tensorflow as tf"
      ]
    },
    {
      "cell_type": "code",
      "execution_count": null,
      "metadata": {},
      "outputs": [],
      "source": []
    },
    {
      "cell_type": "code",
      "execution_count": 35,
      "metadata": {
        "id": "eaW_ywJoJ3KQ"
      },
      "outputs": [],
      "source": [
        "from tensorflow.keras.preprocessing.image import ImageDataGenerator\n",
        "from tensorflow.keras.models import Sequential"
      ]
    },
    {
      "cell_type": "code",
      "execution_count": 36,
      "metadata": {
        "id": "taO0FLFdJ79m"
      },
      "outputs": [],
      "source": [
        "from tensorflow.keras.layers import Conv2D, MaxPooling2D, Flatten, Dense, Dropout, BatchNormalization\n",
        "from tensorflow.keras.callbacks import EarlyStopping, ReduceLROnPlateau\n",
        "from google.colab import drive"
      ]
    },
    {
      "cell_type": "code",
      "execution_count": 37,
      "metadata": {
        "id": "AWreQhztJ-j3"
      },
      "outputs": [],
      "source": [
        "import matplotlib.pyplot as plt\n"
      ]
    },
    {
      "cell_type": "code",
      "execution_count": 38,
      "metadata": {
        "colab": {
          "base_uri": "https://localhost:8080/"
        },
        "id": "R2gtzmkBKDEO",
        "outputId": "c533dc94-b810-4471-98c7-2d97bb3e4e95"
      },
      "outputs": [
        {
          "name": "stdout",
          "output_type": "stream",
          "text": [
            "Drive already mounted at /content/drive; to attempt to forcibly remount, call drive.mount(\"/content/drive\", force_remount=True).\n"
          ]
        }
      ],
      "source": [
        "# Mount Google Drive\n",
        "drive.mount('/content/drive')"
      ]
    },
    {
      "cell_type": "code",
      "execution_count": 39,
      "metadata": {
        "id": "J6dfBZN3KGhO"
      },
      "outputs": [],
      "source": [
        "# Define Dataset Path\n",
        "dataset_path = \"/content/drive/My Drive/Eye fatigue/train\"\n"
      ]
    },
    {
      "cell_type": "code",
      "execution_count": 40,
      "metadata": {
        "colab": {
          "base_uri": "https://localhost:8080/"
        },
        "id": "u8Gmo-tVKHzN",
        "outputId": "e084d5d6-fc72-4fff-cb2b-545da88da621"
      },
      "outputs": [
        {
          "name": "stdout",
          "output_type": "stream",
          "text": [
            "Classes: ['Closed', 'working', 'expression', 'Open']\n"
          ]
        }
      ],
      "source": [
        "# Check Dataset\n",
        "print(\"Classes:\", os.listdir(dataset_path))"
      ]
    },
    {
      "cell_type": "code",
      "execution_count": 41,
      "metadata": {
        "id": "E0Cz8K1SKhzZ"
      },
      "outputs": [],
      "source": [
        "img_size = (128, 128)\n",
        "batch_size = 32"
      ]
    },
    {
      "cell_type": "code",
      "execution_count": 42,
      "metadata": {
        "id": "QXjhzGgEK0yM"
      },
      "outputs": [],
      "source": [
        "# Data Augmentation and Preprocessing\n",
        "datagen = ImageDataGenerator(\n",
        "    rescale=1.0 / 255,       # Normalize pixel values\n",
        "    rotation_range=20,       # Random rotation\n",
        "    zoom_range=0.2,          # Random zoom\n",
        "    shear_range=0.2,         # Shear transformation\n",
        "    horizontal_flip=True,    # Random horizontal flip\n",
        "    validation_split=0.2     # 20% for validation\n",
        ")"
      ]
    },
    {
      "cell_type": "code",
      "execution_count": 43,
      "metadata": {
        "colab": {
          "base_uri": "https://localhost:8080/"
        },
        "id": "Tx9gDr98K2-E",
        "outputId": "de3d19f2-1983-4400-c76d-714816c87304"
      },
      "outputs": [
        {
          "name": "stdout",
          "output_type": "stream",
          "text": [
            "Found 2281 images belonging to 4 classes.\n"
          ]
        }
      ],
      "source": [
        "# Load Training and Validation Data\n",
        "train_data = datagen.flow_from_directory(\n",
        "    dataset_path,\n",
        "    target_size=img_size,\n",
        "    batch_size=batch_size,\n",
        "    class_mode='categorical',\n",
        "    subset='training'\n",
        ")"
      ]
    },
    {
      "cell_type": "code",
      "execution_count": 44,
      "metadata": {
        "colab": {
          "base_uri": "https://localhost:8080/"
        },
        "id": "spEF_K1_K5Ll",
        "outputId": "a054c36e-02d1-4202-d03b-d3802e27660a"
      },
      "outputs": [
        {
          "name": "stdout",
          "output_type": "stream",
          "text": [
            "Found 569 images belonging to 4 classes.\n"
          ]
        }
      ],
      "source": [
        "val_data = datagen.flow_from_directory(\n",
        "    dataset_path,\n",
        "    target_size=img_size,\n",
        "    batch_size=batch_size,\n",
        "    class_mode='categorical',\n",
        "    subset='validation'\n",
        ")"
      ]
    },
    {
      "cell_type": "code",
      "execution_count": 45,
      "metadata": {
        "colab": {
          "base_uri": "https://localhost:8080/"
        },
        "id": "i5WWk3YaK7Gw",
        "outputId": "848b4521-d27d-4b87-fb21-7baeda22642e"
      },
      "outputs": [
        {
          "name": "stderr",
          "output_type": "stream",
          "text": [
            "/usr/local/lib/python3.10/dist-packages/keras/src/layers/convolutional/base_conv.py:107: UserWarning: Do not pass an `input_shape`/`input_dim` argument to a layer. When using Sequential models, prefer using an `Input(shape)` object as the first layer in the model instead.\n",
            "  super().__init__(activity_regularizer=activity_regularizer, **kwargs)\n"
          ]
        }
      ],
      "source": [
        "# Define CNN Model\n",
        "model = Sequential([\n",
        "    Conv2D(32, (3, 3), activation='relu', input_shape=(128, 128, 3)),\n",
        "    BatchNormalization(),\n",
        "    MaxPooling2D((2, 2)),\n",
        "    Dropout(0.25),\n",
        "\n",
        "    Conv2D(64, (3, 3), activation='relu'),\n",
        "    BatchNormalization(),\n",
        "    MaxPooling2D((2, 2)),\n",
        "    Dropout(0.25),\n",
        "\n",
        "    Conv2D(128, (3, 3), activation='relu'),\n",
        "    BatchNormalization(),\n",
        "    MaxPooling2D((2, 2)),\n",
        "    Dropout(0.4),\n",
        "\n",
        "    Flatten(),\n",
        "    Dense(256, activation='relu'),\n",
        "    Dropout(0.5),\n",
        "    Dense(train_data.num_classes, activation='softmax')  # Number of output classes\n",
        "])\n"
      ]
    },
    {
      "cell_type": "code",
      "execution_count": 46,
      "metadata": {
        "id": "yP9kGa94K-Vd"
      },
      "outputs": [],
      "source": [
        "# Compile Model\n",
        "model.compile(\n",
        "    optimizer=tf.keras.optimizers.Adam(learning_rate=0.001),\n",
        "    loss='categorical_crossentropy',\n",
        "    metrics=['accuracy']\n",
        ")"
      ]
    },
    {
      "cell_type": "code",
      "execution_count": 47,
      "metadata": {
        "id": "Cnr11dnELATt"
      },
      "outputs": [],
      "source": [
        "# Callbacks for Early Stopping and Learning Rate Adjustment\n",
        "early_stop = EarlyStopping(\n",
        "    monitor='val_loss',\n",
        "    patience=5,\n",
        "    restore_best_weights=True\n",
        ")\n",
        "reduce_lr = ReduceLROnPlateau(\n",
        "    monitor='val_loss',\n",
        "    factor=0.2,\n",
        "    patience=3,\n",
        "    min_lr=0.0001\n",
        ")"
      ]
    },
    {
      "cell_type": "code",
      "execution_count": 48,
      "metadata": {
        "colab": {
          "base_uri": "https://localhost:8080/"
        },
        "id": "i1mJRer5LB9z",
        "outputId": "df7bbc56-1abb-4c62-f276-954cd5951440"
      },
      "outputs": [
        {
          "name": "stdout",
          "output_type": "stream",
          "text": [
            "Epoch 1/30\n",
            "\u001b[1m72/72\u001b[0m \u001b[32m━━━━━━━━━━━━━━━━━━━━\u001b[0m\u001b[37m\u001b[0m \u001b[1m39s\u001b[0m 415ms/step - accuracy: 0.5941 - loss: 5.1294 - val_accuracy: 0.2548 - val_loss: 13.0503 - learning_rate: 0.0010\n",
            "Epoch 2/30\n",
            "\u001b[1m72/72\u001b[0m \u001b[32m━━━━━━━━━━━━━━━━━━━━\u001b[0m\u001b[37m\u001b[0m \u001b[1m30s\u001b[0m 319ms/step - accuracy: 0.7144 - loss: 0.8941 - val_accuracy: 0.3779 - val_loss: 11.1967 - learning_rate: 0.0010\n",
            "Epoch 3/30\n",
            "\u001b[1m72/72\u001b[0m \u001b[32m━━━━━━━━━━━━━━━━━━━━\u001b[0m\u001b[37m\u001b[0m \u001b[1m41s\u001b[0m 326ms/step - accuracy: 0.7359 - loss: 0.6211 - val_accuracy: 0.2636 - val_loss: 26.4213 - learning_rate: 0.0010\n",
            "Epoch 4/30\n",
            "\u001b[1m72/72\u001b[0m \u001b[32m━━━━━━━━━━━━━━━━━━━━\u001b[0m\u001b[37m\u001b[0m \u001b[1m25s\u001b[0m 319ms/step - accuracy: 0.7631 - loss: 0.6279 - val_accuracy: 0.3585 - val_loss: 10.1108 - learning_rate: 0.0010\n",
            "Epoch 5/30\n",
            "\u001b[1m72/72\u001b[0m \u001b[32m━━━━━━━━━━━━━━━━━━━━\u001b[0m\u001b[37m\u001b[0m \u001b[1m25s\u001b[0m 312ms/step - accuracy: 0.7740 - loss: 0.4824 - val_accuracy: 0.3691 - val_loss: 10.8763 - learning_rate: 0.0010\n",
            "Epoch 6/30\n",
            "\u001b[1m72/72\u001b[0m \u001b[32m━━━━━━━━━━━━━━━━━━━━\u001b[0m\u001b[37m\u001b[0m \u001b[1m41s\u001b[0m 319ms/step - accuracy: 0.7555 - loss: 0.6453 - val_accuracy: 0.6081 - val_loss: 2.0985 - learning_rate: 0.0010\n",
            "Epoch 7/30\n",
            "\u001b[1m72/72\u001b[0m \u001b[32m━━━━━━━━━━━━━━━━━━━━\u001b[0m\u001b[37m\u001b[0m \u001b[1m42s\u001b[0m 330ms/step - accuracy: 0.7377 - loss: 0.5958 - val_accuracy: 0.6608 - val_loss: 1.5305 - learning_rate: 0.0010\n",
            "Epoch 8/30\n",
            "\u001b[1m72/72\u001b[0m \u001b[32m━━━━━━━━━━━━━━━━━━━━\u001b[0m\u001b[37m\u001b[0m \u001b[1m41s\u001b[0m 335ms/step - accuracy: 0.7695 - loss: 0.5247 - val_accuracy: 0.7188 - val_loss: 0.5777 - learning_rate: 0.0010\n",
            "Epoch 9/30\n",
            "\u001b[1m72/72\u001b[0m \u001b[32m━━━━━━━━━━━━━━━━━━━━\u001b[0m\u001b[37m\u001b[0m \u001b[1m25s\u001b[0m 324ms/step - accuracy: 0.7562 - loss: 0.4710 - val_accuracy: 0.7891 - val_loss: 0.9182 - learning_rate: 0.0010\n",
            "Epoch 10/30\n",
            "\u001b[1m72/72\u001b[0m \u001b[32m━━━━━━━━━━━━━━━━━━━━\u001b[0m\u001b[37m\u001b[0m \u001b[1m25s\u001b[0m 313ms/step - accuracy: 0.7901 - loss: 0.4458 - val_accuracy: 0.7012 - val_loss: 0.7656 - learning_rate: 0.0010\n",
            "Epoch 11/30\n",
            "\u001b[1m72/72\u001b[0m \u001b[32m━━━━━━━━━━━━━━━━━━━━\u001b[0m\u001b[37m\u001b[0m \u001b[1m41s\u001b[0m 317ms/step - accuracy: 0.7871 - loss: 0.3847 - val_accuracy: 0.8172 - val_loss: 0.8065 - learning_rate: 0.0010\n",
            "Epoch 12/30\n",
            "\u001b[1m72/72\u001b[0m \u001b[32m━━━━━━━━━━━━━━━━━━━━\u001b[0m\u001b[37m\u001b[0m \u001b[1m25s\u001b[0m 314ms/step - accuracy: 0.8042 - loss: 0.3648 - val_accuracy: 0.7873 - val_loss: 0.5994 - learning_rate: 2.0000e-04\n",
            "Epoch 13/30\n",
            "\u001b[1m72/72\u001b[0m \u001b[32m━━━━━━━━━━━━━━━━━━━━\u001b[0m\u001b[37m\u001b[0m \u001b[1m41s\u001b[0m 322ms/step - accuracy: 0.8260 - loss: 0.3155 - val_accuracy: 0.7645 - val_loss: 0.5700 - learning_rate: 2.0000e-04\n",
            "Epoch 14/30\n",
            "\u001b[1m72/72\u001b[0m \u001b[32m━━━━━━━━━━━━━━━━━━━━\u001b[0m\u001b[37m\u001b[0m \u001b[1m46s\u001b[0m 399ms/step - accuracy: 0.8201 - loss: 0.3251 - val_accuracy: 0.7891 - val_loss: 0.5070 - learning_rate: 2.0000e-04\n",
            "Epoch 15/30\n",
            "\u001b[1m72/72\u001b[0m \u001b[32m━━━━━━━━━━━━━━━━━━━━\u001b[0m\u001b[37m\u001b[0m \u001b[1m26s\u001b[0m 335ms/step - accuracy: 0.8161 - loss: 0.3137 - val_accuracy: 0.7627 - val_loss: 0.5288 - learning_rate: 2.0000e-04\n",
            "Epoch 16/30\n",
            "\u001b[1m72/72\u001b[0m \u001b[32m━━━━━━━━━━━━━━━━━━━━\u001b[0m\u001b[37m\u001b[0m \u001b[1m25s\u001b[0m 328ms/step - accuracy: 0.8190 - loss: 0.3109 - val_accuracy: 0.7276 - val_loss: 0.5883 - learning_rate: 2.0000e-04\n",
            "Epoch 17/30\n",
            "\u001b[1m72/72\u001b[0m \u001b[32m━━━━━━━━━━━━━━━━━━━━\u001b[0m\u001b[37m\u001b[0m \u001b[1m25s\u001b[0m 326ms/step - accuracy: 0.8217 - loss: 0.2879 - val_accuracy: 0.7417 - val_loss: 0.5381 - learning_rate: 2.0000e-04\n",
            "Epoch 18/30\n",
            "\u001b[1m72/72\u001b[0m \u001b[32m━━━━━━━━━━━━━━━━━━━━\u001b[0m\u001b[37m\u001b[0m \u001b[1m25s\u001b[0m 326ms/step - accuracy: 0.8281 - loss: 0.3110 - val_accuracy: 0.7891 - val_loss: 0.5233 - learning_rate: 1.0000e-04\n",
            "Epoch 19/30\n",
            "\u001b[1m72/72\u001b[0m \u001b[32m━━━━━━━━━━━━━━━━━━━━\u001b[0m\u001b[37m\u001b[0m \u001b[1m40s\u001b[0m 324ms/step - accuracy: 0.8319 - loss: 0.3133 - val_accuracy: 0.7504 - val_loss: 0.5403 - learning_rate: 1.0000e-04\n"
          ]
        }
      ],
      "source": [
        "# Train the Model\n",
        "history = model.fit(\n",
        "    train_data,\n",
        "    validation_data=val_data,\n",
        "    epochs=30,\n",
        "    callbacks=[early_stop, reduce_lr]\n",
        ")\n"
      ]
    },
    {
      "cell_type": "code",
      "execution_count": 49,
      "metadata": {
        "colab": {
          "base_uri": "https://localhost:8080/"
        },
        "id": "8_RLIzCSLD51",
        "outputId": "0fd948de-0a7a-4e2d-d9f8-d22e3c2306f2"
      },
      "outputs": [
        {
          "name": "stderr",
          "output_type": "stream",
          "text": [
            "WARNING:absl:You are saving your model as an HDF5 file via `model.save()` or `keras.saving.save_model(model)`. This file format is considered legacy. We recommend using instead the native Keras format, e.g. `model.save('my_model.keras')` or `keras.saving.save_model(model, 'my_model.keras')`. \n"
          ]
        },
        {
          "name": "stdout",
          "output_type": "stream",
          "text": [
            "Model saved at /content/eye_fatigue_model.h5\n"
          ]
        }
      ],
      "source": [
        "# Save the Model\n",
        "model.save('/content/eye_fatigue_model.h5')\n",
        "print(\"Model saved at /content/eye_fatigue_model.h5\")\n",
        "\n"
      ]
    },
    {
      "cell_type": "code",
      "execution_count": 50,
      "metadata": {
        "colab": {
          "base_uri": "https://localhost:8080/"
        },
        "id": "nUYb-hpu3YrR",
        "outputId": "6e8a45b1-79e4-4dd4-9461-814c0a855ea0"
      },
      "outputs": [
        {
          "name": "stdout",
          "output_type": "stream",
          "text": [
            "\u001b[1m18/18\u001b[0m \u001b[32m━━━━━━━━━━━━━━━━━━━━\u001b[0m\u001b[37m\u001b[0m \u001b[1m5s\u001b[0m 256ms/step - accuracy: 0.8088 - loss: 0.4521\n",
            "Validation Accuracy: 80.49%\n"
          ]
        }
      ],
      "source": [
        "# Evaluate the Model\n",
        "loss, accuracy = model.evaluate(val_data)\n",
        "print(f\"Validation Accuracy: {accuracy * 100:.2f}%\")"
      ]
    },
    {
      "cell_type": "code",
      "execution_count": 51,
      "metadata": {
        "colab": {
          "base_uri": "https://localhost:8080/",
          "height": 449
        },
        "id": "t7jJ1qURagXm",
        "outputId": "0b74e715-8919-4a61-ba0a-a3e44ae00a78"
      },
      "outputs": [
        {
          "data": {
            "image/png": "[encoded data removed]",
            "text/plain": [
              "<Figure size 640x480 with 1 Axes>"
            ]
          },
          "metadata": {},
          "output_type": "display_data"
        }
      ],
      "source": [
        "# Plot Training and Validation Accuracy\n",
        "plt.plot(history.history['accuracy'], label='Train Accuracy')\n",
        "plt.plot(history.history['val_accuracy'], label='Validation Accuracy')\n",
        "plt.xlabel('Epochs')\n",
        "plt.ylabel('Accuracy')\n",
        "plt.legend()\n",
        "plt.show()"
      ]
    },
    {
      "cell_type": "code",
      "execution_count": 52,
      "metadata": {
        "colab": {
          "base_uri": "https://localhost:8080/",
          "height": 449
        },
        "id": "zH2VBHhMbTkN",
        "outputId": "be4dfc86-7119-4a88-ab18-167408b8df0a"
      },
      "outputs": [
        {
          "data": {
            "image/png": "[encoded data removed]",
            "text/plain": [
              "<Figure size 640x480 with 1 Axes>"
            ]
          },
          "metadata": {},
          "output_type": "display_data"
        }
      ],
      "source": [
        "# Plot Training and Validation Loss\n",
        "plt.plot(history.history['loss'], label='Train Loss')\n",
        "plt.plot(history.history['val_loss'], label='Validation Loss')\n",
        "plt.xlabel('Epochs')\n",
        "plt.ylabel('Loss')\n",
        "plt.legend()\n",
        "plt.show()"
      ]
    },
    {
      "cell_type": "code",
      "execution_count": 53,
      "metadata": {
        "colab": {
          "base_uri": "https://localhost:8080/",
          "height": 34
        },
        "id": "39HtEOi4b4-N",
        "outputId": "9e1f5637-c670-42ed-b8a2-be972d574d18"
      },
      "outputs": [
        {
          "data": {
            "application/javascript": "\n    async function download(id, filename, size) {\n      if (!google.colab.kernel.accessAllowed) {\n        return;\n      }\n      const div = document.createElement('div');\n      const label = document.createElement('label');\n      label.textContent = `Downloading \"${filename}\": `;\n      div.appendChild(label);\n      const progress = document.createElement('progress');\n      progress.max = size;\n      div.appendChild(progress);\n      document.body.appendChild(div);\n\n      const buffers = [];\n      let downloaded = 0;\n\n      const channel = await google.colab.kernel.comms.open(id);\n      // Send a message to notify the kernel that we're ready.\n      channel.send({})\n\n      for await (const message of channel.messages) {\n        // Send a message to notify the kernel that we're ready.\n        channel.send({})\n        if (message.buffers) {\n          for (const buffer of message.buffers) {\n            buffers.push(buffer);\n            downloaded += buffer.byteLength;\n            progress.value = downloaded;\n          }\n        }\n      }\n      const blob = new Blob(buffers, {type: 'application/binary'});\n      const a = document.createElement('a');\n      a.href = window.URL.createObjectURL(blob);\n      a.download = filename;\n      div.appendChild(a);\n      a.click();\n      div.remove();\n    }\n  ",
            "text/plain": [
              "<IPython.core.display.Javascript object>"
            ]
          },
          "metadata": {},
          "output_type": "display_data"
        },
        {
          "data": {
            "application/javascript": "download(\"download_d1fe49df-1366-4b9c-9740-b3afbaa183c6\", \"eye_fatigue_model.h5\", 78292184)",
            "text/plain": [
              "<IPython.core.display.Javascript object>"
            ]
          },
          "metadata": {},
          "output_type": "display_data"
        }
      ],
      "source": [
        "from google.colab import files\n",
        "files.download('/content/eye_fatigue_model.h5')\n",
        "\n"
      ]
    },
    {
      "cell_type": "code",
      "execution_count": 26,
      "metadata": {
        "id": "t00ClSzEOfkS"
      },
      "outputs": [],
      "source": []
    }
  ],
  "metadata": {
    "accelerator": "GPU",
    "colab": {
      "gpuType": "T4",
      "provenance": []
    },
    "kernelspec": {
      "display_name": "Python 3",
      "name": "python3"
    },
    "language_info": {
      "name": "python"
    }
  },
  "nbformat": 4,
  "nbformat_minor": 0
}
