{
 "cells": [
  {
   "cell_type": "code",
   "execution_count": 1,
   "metadata": {
    "execution": {
     "iopub.execute_input": "2024-11-26T20:25:10.551548Z",
     "iopub.status.busy": "2024-11-26T20:25:10.550655Z",
     "iopub.status.idle": "2024-11-26T20:25:22.830781Z",
     "shell.execute_reply": "2024-11-26T20:25:22.829865Z",
     "shell.execute_reply.started": "2024-11-26T20:25:10.551508Z"
    },
    "trusted": true
   },
   "outputs": [
    {
     "name": "stdout",
     "output_type": "stream",
     "text": [
      "WARNING:The name tf.losses.sparse_softmax_cross_entropy is deprecated. Please use tf.compat.v1.losses.sparse_softmax_cross_entropy instead.\n",
      "\n"
     ]
    }
   ],
   "source": [
    "import numpy as np\n",
    "import tensorflow as tf\n",
    "import matplotlib.pyplot as plt\n",
    "from tensorflow.keras.models import Sequential\n",
    "from tensorflow.keras.layers import Conv2D, MaxPooling2D, Dense, Flatten, Dropout, Input, BatchNormalization\n",
    "import warnings\n",
    "warnings.filterwarnings('ignore')"
   ]
  },
  {
   "cell_type": "code",
   "execution_count": null,
   "metadata": {
    "execution": {
     "iopub.execute_input": "2024-11-26T20:36:24.784425Z",
     "iopub.status.busy": "2024-11-26T20:36:24.784075Z",
     "iopub.status.idle": "2024-11-26T20:36:25.073524Z",
     "shell.execute_reply": "2024-11-26T20:36:25.072883Z",
     "shell.execute_reply.started": "2024-11-26T20:36:24.784393Z"
    },
    "trusted": true
   },
   "outputs": [
    {
     "name": "stdout",
     "output_type": "stream",
     "text": [
      "Found 491 images belonging to 2 classes.\n",
      "Found 121 images belonging to 2 classes.\n"
     ]
    }
   ],
   "source": [
    "from tensorflow.keras.preprocessing.image import ImageDataGenerator\n",
    "\n",
    "import os\n",
    "import zipfile\n",
    "\n",
    "\n",
    "IMAGE_SIZE = [150, 150]\n",
    "\n",
    "train_datagen = ImageDataGenerator(rescale = 1./255.,\n",
    "                                    rotation_range = 20,\n",
    "                                    width_shift_range = 0.1,\n",
    "                                    height_shift_range = 0.1,\n",
    "                                    shear_range = 0.1,\n",
    "                                    zoom_range = 0.1,\n",
    "                                    horizontal_flip = True\n",
    "                                   \n",
    "                                   )\n",
    "\n",
    "test_datagen = ImageDataGenerator( rescale = 1.0/255. )\n",
    "\n",
    "train_generator = train_datagen.flow_from_directory('processed_images/train',\n",
    "                                                    batch_size = 32,\n",
    "                                                    class_mode = 'categorical', \n",
    "                                                    target_size = (150, 150))     \n",
    "\n",
    "validation_generator =  test_datagen.flow_from_directory( 'processed_images/test',\n",
    "                                                          batch_size  = 32,\n",
    "                                                          class_mode  = 'categorical', \n",
    "                                                          target_size = (150, 150),\n",
    "                                                          shuffle = False \n",
    "                                                    )\n",
    "\n"
   ]
  },
  {
   "cell_type": "code",
   "execution_count": 3,
   "metadata": {
    "execution": {
     "iopub.execute_input": "2024-11-26T20:36:34.290723Z",
     "iopub.status.busy": "2024-11-26T20:36:34.290393Z",
     "iopub.status.idle": "2024-11-26T20:36:34.661115Z",
     "shell.execute_reply": "2024-11-26T20:36:34.660351Z",
     "shell.execute_reply.started": "2024-11-26T20:36:34.290695Z"
    },
    "trusted": true
   },
   "outputs": [
    {
     "name": "stdout",
     "output_type": "stream",
     "text": [
      "WARNING:The name tf.get_default_graph is deprecated. Please use tf.compat.v1.get_default_graph instead.\n",
      "\n",
      "WARNING:The name tf.nn.max_pool is deprecated. Please use tf.nn.max_pool2d instead.\n",
      "\n",
      "Model: \"sequential\"\n",
      "_________________________________________________________________\n",
      " Layer (type)                Output Shape              Param #   \n",
      "=================================================================\n",
      " conv2d (Conv2D)             (None, 148, 148, 64)      1792      \n",
      "                                                                 \n",
      " conv2d_1 (Conv2D)           (None, 146, 146, 64)      36928     \n",
      "                                                                 \n",
      " max_pooling2d (MaxPooling2  (None, 73, 73, 64)        0         \n",
      " D)                                                              \n",
      "                                                                 \n",
      " batch_normalization (Batch  (None, 73, 73, 64)        256       \n",
      " Normalization)                                                  \n",
      "                                                                 \n",
      " dropout (Dropout)           (None, 73, 73, 64)        0         \n",
      "                                                                 \n",
      " conv2d_2 (Conv2D)           (None, 71, 71, 64)        36928     \n",
      "                                                                 \n",
      " conv2d_3 (Conv2D)           (None, 69, 69, 64)        36928     \n",
      "                                                                 \n",
      " max_pooling2d_1 (MaxPoolin  (None, 34, 34, 64)        0         \n",
      " g2D)                                                            \n",
      "                                                                 \n",
      " batch_normalization_1 (Bat  (None, 34, 34, 64)        256       \n",
      " chNormalization)                                                \n",
      "                                                                 \n",
      " dropout_1 (Dropout)         (None, 34, 34, 64)        0         \n",
      "                                                                 \n",
      " conv2d_4 (Conv2D)           (None, 32, 32, 32)        18464     \n",
      "                                                                 \n",
      " conv2d_5 (Conv2D)           (None, 30, 30, 32)        9248      \n",
      "                                                                 \n",
      " max_pooling2d_2 (MaxPoolin  (None, 15, 15, 32)        0         \n",
      " g2D)                                                            \n",
      "                                                                 \n",
      " batch_normalization_2 (Bat  (None, 15, 15, 32)        128       \n",
      " chNormalization)                                                \n",
      "                                                                 \n",
      " dropout_2 (Dropout)         (None, 15, 15, 32)        0         \n",
      "                                                                 \n",
      " conv2d_6 (Conv2D)           (None, 13, 13, 32)        9248      \n",
      "                                                                 \n",
      " conv2d_7 (Conv2D)           (None, 11, 11, 32)        9248      \n",
      "                                                                 \n",
      " max_pooling2d_3 (MaxPoolin  (None, 5, 5, 32)          0         \n",
      " g2D)                                                            \n",
      "                                                                 \n",
      " batch_normalization_3 (Bat  (None, 5, 5, 32)          128       \n",
      " chNormalization)                                                \n",
      "                                                                 \n",
      " dropout_3 (Dropout)         (None, 5, 5, 32)          0         \n",
      "                                                                 \n",
      " conv2d_8 (Conv2D)           (None, 3, 3, 16)          4624      \n",
      "                                                                 \n",
      " max_pooling2d_4 (MaxPoolin  (None, 1, 1, 16)          0         \n",
      " g2D)                                                            \n",
      "                                                                 \n",
      " batch_normalization_4 (Bat  (None, 1, 1, 16)          64        \n",
      " chNormalization)                                                \n",
      "                                                                 \n",
      " dropout_4 (Dropout)         (None, 1, 1, 16)          0         \n",
      "                                                                 \n",
      " flatten (Flatten)           (None, 16)                0         \n",
      "                                                                 \n",
      " dropout_5 (Dropout)         (None, 16)                0         \n",
      "                                                                 \n",
      " dense (Dense)               (None, 128)               2176      \n",
      "                                                                 \n",
      " dense_1 (Dense)             (None, 128)               16512     \n",
      "                                                                 \n",
      " dense_2 (Dense)             (None, 2)                 258       \n",
      "                                                                 \n",
      "=================================================================\n",
      "Total params: 183186 (715.57 KB)\n",
      "Trainable params: 182770 (713.95 KB)\n",
      "Non-trainable params: 416 (1.62 KB)\n",
      "_________________________________________________________________\n"
     ]
    }
   ],
   "source": [
    "model = Sequential()\n",
    "\n",
    "model.add(tf.keras.layers.InputLayer(input_shape=(150, 150, 3)))\n",
    "\n",
    "model.add(Conv2D(filters=64, kernel_size=(3, 3), strides=(1, 1), activation='relu'))\n",
    "model.add(Conv2D(filters=64, kernel_size=(3, 3), strides=(1, 1), activation='relu'))\n",
    "model.add(MaxPooling2D(pool_size=(2, 2)))  \n",
    "model.add(BatchNormalization())\n",
    "model.add(Dropout(0.3))\n",
    "\n",
    "model.add(Conv2D(filters=64, kernel_size=(3, 3), strides=(1, 1), activation='relu'))\n",
    "model.add(Conv2D(filters=64, kernel_size=(3, 3), strides=(1, 1), activation='relu'))\n",
    "model.add(MaxPooling2D(pool_size=(2, 2)))  \n",
    "model.add(BatchNormalization())\n",
    "model.add(Dropout(0.35))\n",
    "\n",
    "model.add(Conv2D(filters=32, kernel_size=(3, 3), strides=(1, 1), activation='relu'))\n",
    "model.add(Conv2D(filters=32, kernel_size=(3, 3), strides=(1, 1), activation='relu'))\n",
    "model.add(MaxPooling2D(pool_size=(2, 2)))  \n",
    "model.add(BatchNormalization())\n",
    "model.add(Dropout(0.35))\n",
    "\n",
    "model.add(Conv2D(filters=32, kernel_size=(3, 3), strides=(1, 1), activation='relu'))\n",
    "model.add(Conv2D(filters=32, kernel_size=(3, 3), strides=(1, 1), activation='relu'))\n",
    "model.add(MaxPooling2D(pool_size=(2, 2))) \n",
    "model.add(BatchNormalization())\n",
    "model.add(Dropout(0.35))\n",
    "\n",
    "model.add(Conv2D(filters=16, kernel_size=(3, 3), strides=(1, 1), activation='relu'))\n",
    "model.add(MaxPooling2D(pool_size=(2, 2)))  \n",
    "model.add(BatchNormalization())\n",
    "model.add(Dropout(0.35))\n",
    "\n",
    "model.add(Flatten())  \n",
    "\n",
    "model.add(Dropout(0.4))  \n",
    "\n",
    "model.add(Dense(128, activation='relu', kernel_regularizer=tf.keras.regularizers.l2(0.0001)))\n",
    "model.add(Dense(128, activation='relu', kernel_regularizer=tf.keras.regularizers.l2(0.0001)))\n",
    "\n",
    "\n",
    "model.add(Dense(2, activation='sigmoid', kernel_regularizer=tf.keras.regularizers.l2(0.0001)))  \n",
    "\n",
    "\n",
    "\n",
    "model.summary()"
   ]
  },
  {
   "cell_type": "code",
   "execution_count": null,
   "metadata": {
    "execution": {
     "iopub.execute_input": "2024-11-26T20:36:41.341915Z",
     "iopub.status.busy": "2024-11-26T20:36:41.341323Z",
     "iopub.status.idle": "2024-11-26T20:49:52.231611Z",
     "shell.execute_reply": "2024-11-26T20:49:52.230845Z",
     "shell.execute_reply.started": "2024-11-26T20:36:41.341880Z"
    },
    "trusted": true
   },
   "outputs": [
    {
     "name": "stdout",
     "output_type": "stream",
     "text": [
      "Epoch 1/50\n",
      "\u001b[1m16/16\u001b[0m \u001b[32m━━━━━━━━━━━━━━━━━━━━\u001b[0m\u001b[37m\u001b[0m \u001b[1m51s\u001b[0m 2s/step - accuracy: 0.4789 - loss: 0.7262 - val_accuracy: 0.5041 - val_loss: 0.7095 - learning_rate: 0.0010\n",
      "Epoch 2/50\n",
      "\u001b[1m16/16\u001b[0m \u001b[32m━━━━━━━━━━━━━━━━━━━━\u001b[0m\u001b[37m\u001b[0m \u001b[1m18s\u001b[0m 726ms/step - accuracy: 0.5830 - loss: 0.6980 - val_accuracy: 0.5041 - val_loss: 0.7121 - learning_rate: 0.0010\n",
      "Epoch 3/50\n",
      "\u001b[1m16/16\u001b[0m \u001b[32m━━━━━━━━━━━━━━━━━━━━\u001b[0m\u001b[37m\u001b[0m \u001b[1m18s\u001b[0m 827ms/step - accuracy: 0.6372 - loss: 0.6328 - val_accuracy: 0.5041 - val_loss: 0.7404 - learning_rate: 0.0010\n",
      "Epoch 4/50\n",
      "\u001b[1m16/16\u001b[0m \u001b[32m━━━━━━━━━━━━━━━━━━━━\u001b[0m\u001b[37m\u001b[0m \u001b[1m19s\u001b[0m 801ms/step - accuracy: 0.6864 - loss: 0.5898 - val_accuracy: 0.5041 - val_loss: 0.7941 - learning_rate: 0.0010\n",
      "Epoch 5/50\n",
      "\u001b[1m16/16\u001b[0m \u001b[32m━━━━━━━━━━━━━━━━━━━━\u001b[0m\u001b[37m\u001b[0m \u001b[1m19s\u001b[0m 826ms/step - accuracy: 0.7029 - loss: 0.6034 - val_accuracy: 0.5041 - val_loss: 0.8186 - learning_rate: 0.0010\n",
      "Epoch 6/50\n",
      "\u001b[1m16/16\u001b[0m \u001b[32m━━━━━━━━━━━━━━━━━━━━\u001b[0m\u001b[37m\u001b[0m \u001b[1m19s\u001b[0m 733ms/step - accuracy: 0.7269 - loss: 0.5361 - val_accuracy: 0.5041 - val_loss: 0.7917 - learning_rate: 0.0010\n",
      "Epoch 7/50\n",
      "\u001b[1m16/16\u001b[0m \u001b[32m━━━━━━━━━━━━━━━━━━━━\u001b[0m\u001b[37m\u001b[0m \u001b[1m19s\u001b[0m 697ms/step - accuracy: 0.7636 - loss: 0.5321 - val_accuracy: 0.5041 - val_loss: 0.8091 - learning_rate: 0.0010\n",
      "Epoch 8/50\n",
      "\u001b[1m16/16\u001b[0m \u001b[32m━━━━━━━━━━━━━━━━━━━━\u001b[0m\u001b[37m\u001b[0m \u001b[1m19s\u001b[0m 766ms/step - accuracy: 0.8007 - loss: 0.4611 - val_accuracy: 0.5041 - val_loss: 0.8837 - learning_rate: 0.0010\n",
      "Epoch 9/50\n",
      "\u001b[1m16/16\u001b[0m \u001b[32m━━━━━━━━━━━━━━━━━━━━\u001b[0m\u001b[37m\u001b[0m \u001b[1m19s\u001b[0m 713ms/step - accuracy: 0.8105 - loss: 0.4396 - val_accuracy: 0.5041 - val_loss: 0.8625 - learning_rate: 0.0010\n",
      "Epoch 10/50\n",
      "\u001b[1m16/16\u001b[0m \u001b[32m━━━━━━━━━━━━━━━━━━━━\u001b[0m\u001b[37m\u001b[0m \u001b[1m18s\u001b[0m 805ms/step - accuracy: 0.8143 - loss: 0.4228 - val_accuracy: 0.5207 - val_loss: 0.7009 - learning_rate: 0.0010\n",
      "Epoch 11/50\n",
      "\u001b[1m16/16\u001b[0m \u001b[32m━━━━━━━━━━━━━━━━━━━━\u001b[0m\u001b[37m\u001b[0m \u001b[1m18s\u001b[0m 625ms/step - accuracy: 0.8038 - loss: 0.4324 - val_accuracy: 0.5041 - val_loss: 0.7746 - learning_rate: 0.0010\n",
      "Epoch 12/50\n",
      "\u001b[1m16/16\u001b[0m \u001b[32m━━━━━━━━━━━━━━━━━━━━\u001b[0m\u001b[37m\u001b[0m \u001b[1m19s\u001b[0m 708ms/step - accuracy: 0.7727 - loss: 0.4838 - val_accuracy: 0.5041 - val_loss: 0.7640 - learning_rate: 0.0010\n",
      "Epoch 13/50\n",
      "\u001b[1m16/16\u001b[0m \u001b[32m━━━━━━━━━━━━━━━━━━━━\u001b[0m\u001b[37m\u001b[0m \u001b[1m18s\u001b[0m 731ms/step - accuracy: 0.8386 - loss: 0.3917 - val_accuracy: 0.5537 - val_loss: 0.6811 - learning_rate: 0.0010\n",
      "Epoch 14/50\n",
      "\u001b[1m16/16\u001b[0m \u001b[32m━━━━━━━━━━━━━━━━━━━━\u001b[0m\u001b[37m\u001b[0m \u001b[1m18s\u001b[0m 717ms/step - accuracy: 0.8672 - loss: 0.3736 - val_accuracy: 0.5455 - val_loss: 0.7217 - learning_rate: 0.0010\n",
      "Epoch 15/50\n",
      "\u001b[1m16/16\u001b[0m \u001b[32m━━━━━━━━━━━━━━━━━━━━\u001b[0m\u001b[37m\u001b[0m \u001b[1m19s\u001b[0m 639ms/step - accuracy: 0.8296 - loss: 0.3924 - val_accuracy: 0.6281 - val_loss: 0.6241 - learning_rate: 0.0010\n",
      "Epoch 16/50\n",
      "\u001b[1m16/16\u001b[0m \u001b[32m━━━━━━━━━━━━━━━━━━━━\u001b[0m\u001b[37m\u001b[0m \u001b[1m18s\u001b[0m 850ms/step - accuracy: 0.8678 - loss: 0.3698 - val_accuracy: 0.6281 - val_loss: 0.6232 - learning_rate: 0.0010\n",
      "Epoch 17/50\n",
      "\u001b[1m16/16\u001b[0m \u001b[32m━━━━━━━━━━━━━━━━━━━━\u001b[0m\u001b[37m\u001b[0m \u001b[1m18s\u001b[0m 740ms/step - accuracy: 0.8787 - loss: 0.3456 - val_accuracy: 0.5207 - val_loss: 0.7239 - learning_rate: 0.0010\n",
      "Epoch 18/50\n",
      "\u001b[1m16/16\u001b[0m \u001b[32m━━━━━━━━━━━━━━━━━━━━\u001b[0m\u001b[37m\u001b[0m \u001b[1m19s\u001b[0m 766ms/step - accuracy: 0.8878 - loss: 0.3467 - val_accuracy: 0.7355 - val_loss: 0.5318 - learning_rate: 0.0010\n",
      "Epoch 19/50\n",
      "\u001b[1m16/16\u001b[0m \u001b[32m━━━━━━━━━━━━━━━━━━━━\u001b[0m\u001b[37m\u001b[0m \u001b[1m18s\u001b[0m 768ms/step - accuracy: 0.8898 - loss: 0.3086 - val_accuracy: 0.5372 - val_loss: 0.7347 - learning_rate: 0.0010\n",
      "Epoch 20/50\n",
      "\u001b[1m16/16\u001b[0m \u001b[32m━━━━━━━━━━━━━━━━━━━━\u001b[0m\u001b[37m\u001b[0m \u001b[1m18s\u001b[0m 734ms/step - accuracy: 0.8948 - loss: 0.2870 - val_accuracy: 0.8099 - val_loss: 0.4741 - learning_rate: 0.0010\n",
      "Epoch 21/50\n",
      "\u001b[1m16/16\u001b[0m \u001b[32m━━━━━━━━━━━━━━━━━━━━\u001b[0m\u001b[37m\u001b[0m \u001b[1m19s\u001b[0m 794ms/step - accuracy: 0.8629 - loss: 0.3375 - val_accuracy: 0.7107 - val_loss: 0.5390 - learning_rate: 0.0010\n",
      "Epoch 22/50\n",
      "\u001b[1m16/16\u001b[0m \u001b[32m━━━━━━━━━━━━━━━━━━━━\u001b[0m\u001b[37m\u001b[0m \u001b[1m18s\u001b[0m 788ms/step - accuracy: 0.8723 - loss: 0.2998 - val_accuracy: 0.8182 - val_loss: 0.4432 - learning_rate: 0.0010\n",
      "Epoch 23/50\n",
      "\u001b[1m16/16\u001b[0m \u001b[32m━━━━━━━━━━━━━━━━━━━━\u001b[0m\u001b[37m\u001b[0m \u001b[1m18s\u001b[0m 688ms/step - accuracy: 0.8890 - loss: 0.2735 - val_accuracy: 0.8926 - val_loss: 0.3189 - learning_rate: 0.0010\n",
      "Epoch 24/50\n",
      "\u001b[1m16/16\u001b[0m \u001b[32m━━━━━━━━━━━━━━━━━━━━\u001b[0m\u001b[37m\u001b[0m \u001b[1m18s\u001b[0m 752ms/step - accuracy: 0.8871 - loss: 0.3011 - val_accuracy: 0.8099 - val_loss: 0.4073 - learning_rate: 0.0010\n",
      "Epoch 25/50\n",
      "\u001b[1m16/16\u001b[0m \u001b[32m━━━━━━━━━━━━━━━━━━━━\u001b[0m\u001b[37m\u001b[0m \u001b[1m18s\u001b[0m 773ms/step - accuracy: 0.8880 - loss: 0.3174 - val_accuracy: 0.9174 - val_loss: 0.3407 - learning_rate: 0.0010\n",
      "Epoch 26/50\n",
      "\u001b[1m16/16\u001b[0m \u001b[32m━━━━━━━━━━━━━━━━━━━━\u001b[0m\u001b[37m\u001b[0m \u001b[1m18s\u001b[0m 704ms/step - accuracy: 0.9132 - loss: 0.2625 - val_accuracy: 0.8512 - val_loss: 0.4282 - learning_rate: 0.0010\n",
      "Epoch 27/50\n",
      "\u001b[1m16/16\u001b[0m \u001b[32m━━━━━━━━━━━━━━━━━━━━\u001b[0m\u001b[37m\u001b[0m \u001b[1m18s\u001b[0m 782ms/step - accuracy: 0.8947 - loss: 0.2890 - val_accuracy: 0.9421 - val_loss: 0.3187 - learning_rate: 0.0010\n",
      "Epoch 28/50\n",
      "\u001b[1m16/16\u001b[0m \u001b[32m━━━━━━━━━━━━━━━━━━━━\u001b[0m\u001b[37m\u001b[0m \u001b[1m18s\u001b[0m 586ms/step - accuracy: 0.8959 - loss: 0.2589 - val_accuracy: 0.9256 - val_loss: 0.3015 - learning_rate: 0.0010\n",
      "Epoch 29/50\n",
      "\u001b[1m16/16\u001b[0m \u001b[32m━━━━━━━━━━━━━━━━━━━━\u001b[0m\u001b[37m\u001b[0m \u001b[1m18s\u001b[0m 796ms/step - accuracy: 0.9079 - loss: 0.2437 - val_accuracy: 0.9174 - val_loss: 0.2791 - learning_rate: 0.0010\n",
      "Epoch 30/50\n",
      "\u001b[1m16/16\u001b[0m \u001b[32m━━━━━━━━━━━━━━━━━━━━\u001b[0m\u001b[37m\u001b[0m \u001b[1m19s\u001b[0m 751ms/step - accuracy: 0.8918 - loss: 0.2461 - val_accuracy: 0.8595 - val_loss: 0.4163 - learning_rate: 0.0010\n",
      "Epoch 31/50\n",
      "\u001b[1m16/16\u001b[0m \u001b[32m━━━━━━━━━━━━━━━━━━━━\u001b[0m\u001b[37m\u001b[0m \u001b[1m19s\u001b[0m 770ms/step - accuracy: 0.8824 - loss: 0.3260 - val_accuracy: 0.9174 - val_loss: 0.2165 - learning_rate: 0.0010\n",
      "Epoch 32/50\n",
      "\u001b[1m16/16\u001b[0m \u001b[32m━━━━━━━━━━━━━━━━━━━━\u001b[0m\u001b[37m\u001b[0m \u001b[1m19s\u001b[0m 749ms/step - accuracy: 0.9256 - loss: 0.2011 - val_accuracy: 0.9339 - val_loss: 0.2440 - learning_rate: 0.0010\n",
      "Epoch 33/50\n",
      "\u001b[1m16/16\u001b[0m \u001b[32m━━━━━━━━━━━━━━━━━━━━\u001b[0m\u001b[37m\u001b[0m \u001b[1m18s\u001b[0m 747ms/step - accuracy: 0.9110 - loss: 0.2760 - val_accuracy: 0.7355 - val_loss: 0.5740 - learning_rate: 0.0010\n",
      "Epoch 34/50\n",
      "\u001b[1m16/16\u001b[0m \u001b[32m━━━━━━━━━━━━━━━━━━━━\u001b[0m\u001b[37m\u001b[0m \u001b[1m18s\u001b[0m 672ms/step - accuracy: 0.8973 - loss: 0.2843 - val_accuracy: 0.8017 - val_loss: 0.4517 - learning_rate: 0.0010\n",
      "Epoch 35/50\n",
      "\u001b[1m16/16\u001b[0m \u001b[32m━━━━━━━━━━━━━━━━━━━━\u001b[0m\u001b[37m\u001b[0m \u001b[1m18s\u001b[0m 762ms/step - accuracy: 0.8908 - loss: 0.2703 - val_accuracy: 0.8347 - val_loss: 0.3409 - learning_rate: 0.0010\n",
      "Epoch 36/50\n",
      "\u001b[1m16/16\u001b[0m \u001b[32m━━━━━━━━━━━━━━━━━━━━\u001b[0m\u001b[37m\u001b[0m \u001b[1m18s\u001b[0m 668ms/step - accuracy: 0.9312 - loss: 0.2272 - val_accuracy: 0.8760 - val_loss: 0.2940 - learning_rate: 0.0010\n",
      "Epoch 37/50\n",
      "\u001b[1m16/16\u001b[0m \u001b[32m━━━━━━━━━━━━━━━━━━━━\u001b[0m\u001b[37m\u001b[0m \u001b[1m18s\u001b[0m 745ms/step - accuracy: 0.9071 - loss: 0.2413 - val_accuracy: 0.7851 - val_loss: 0.6994 - learning_rate: 0.0010\n",
      "Epoch 38/50\n",
      "\u001b[1m16/16\u001b[0m \u001b[32m━━━━━━━━━━━━━━━━━━━━\u001b[0m\u001b[37m\u001b[0m \u001b[1m18s\u001b[0m 812ms/step - accuracy: 0.9289 - loss: 0.2426 - val_accuracy: 0.7521 - val_loss: 0.5983 - learning_rate: 0.0010\n",
      "Epoch 39/50\n",
      "\u001b[1m16/16\u001b[0m \u001b[32m━━━━━━━━━━━━━━━━━━━━\u001b[0m\u001b[37m\u001b[0m \u001b[1m18s\u001b[0m 792ms/step - accuracy: 0.9420 - loss: 0.1755 - val_accuracy: 0.8017 - val_loss: 0.4542 - learning_rate: 0.0010\n",
      "Epoch 40/50\n",
      "\u001b[1m16/16\u001b[0m \u001b[32m━━━━━━━━━━━━━━━━━━━━\u001b[0m\u001b[37m\u001b[0m \u001b[1m18s\u001b[0m 715ms/step - accuracy: 0.9394 - loss: 0.1883 - val_accuracy: 0.8760 - val_loss: 0.3725 - learning_rate: 0.0010\n",
      "Epoch 41/50\n",
      "\u001b[1m16/16\u001b[0m \u001b[32m━━━━━━━━━━━━━━━━━━━━\u001b[0m\u001b[37m\u001b[0m \u001b[1m18s\u001b[0m 790ms/step - accuracy: 0.9237 - loss: 0.2050 - val_accuracy: 0.6942 - val_loss: 1.3066 - learning_rate: 0.0010\n",
      "Total Time: 790.8842535018921\n"
     ]
    }
   ],
   "source": [
    "import time\n",
    "from tensorflow.keras.callbacks import ReduceLROnPlateau, EarlyStopping\n",
    "\n",
    "\n",
    "start = time.time()\n",
    "\n",
    "model.compile(optimizer = 'adam',loss = 'binary_crossentropy', metrics = ['accuracy'])\n",
    "\n",
    "\n",
    "reduce_lr = ReduceLROnPlateau(monitor='val_loss', factor=0.2, patience=5, min_lr=0.001)\n",
    "early_stopping = EarlyStopping(monitor='val_loss', patience=10, restore_best_weights=True)\n",
    "\n",
    "history = model.fit(\n",
    "    train_generator,\n",
    "    validation_data=validation_generator,\n",
    "    epochs=50,  \n",
    "    callbacks=[reduce_lr, early_stopping]\n",
    ")\n",
    "\n",
    "end = time.time()\n",
    "elapsed = end - start\n",
    "print(\"Total Time:\", elapsed)"
   ]
  },
  {
   "cell_type": "code",
   "execution_count": 16,
   "metadata": {
    "execution": {
     "iopub.execute_input": "2024-11-26T20:49:52.233186Z",
     "iopub.status.busy": "2024-11-26T20:49:52.232909Z",
     "iopub.status.idle": "2024-11-26T20:49:57.959161Z",
     "shell.execute_reply": "2024-11-26T20:49:57.958407Z",
     "shell.execute_reply.started": "2024-11-26T20:49:52.233160Z"
    },
    "trusted": true
   },
   "outputs": [
    {
     "name": "stdout",
     "output_type": "stream",
     "text": [
      "\u001b[1m4/4\u001b[0m \u001b[32m━━━━━━━━━━━━━━━━━━━━\u001b[0m\u001b[37m\u001b[0m \u001b[1m4s\u001b[0m 686ms/step - accuracy: 0.9097 - loss: 0.2013\n",
      "Accuracy score: 0.9173553586006165\n"
     ]
    }
   ],
   "source": [
    "loss, accuracy = model.evaluate(validation_generator)\n",
    "print(\"Accuracy score:\", accuracy)"
   ]
  },
  {
   "cell_type": "code",
   "execution_count": 18,
   "metadata": {
    "execution": {
     "iopub.execute_input": "2024-11-26T20:50:36.226694Z",
     "iopub.status.busy": "2024-11-26T20:50:36.226335Z",
     "iopub.status.idle": "2024-11-26T20:50:36.320356Z",
     "shell.execute_reply": "2024-11-26T20:50:36.319542Z",
     "shell.execute_reply.started": "2024-11-26T20:50:36.226662Z"
    },
    "trusted": true
   },
   "outputs": [],
   "source": [
    "# Save the model in HDF5 format\n",
    "model.save('my_model.h5')\n"
   ]
  },
  {
   "cell_type": "code",
   "execution_count": 17,
   "metadata": {
    "execution": {
     "iopub.execute_input": "2024-11-26T20:50:13.921784Z",
     "iopub.status.busy": "2024-11-26T20:50:13.921457Z",
     "iopub.status.idle": "2024-11-26T20:50:20.151067Z",
     "shell.execute_reply": "2024-11-26T20:50:20.150230Z",
     "shell.execute_reply.started": "2024-11-26T20:50:13.921758Z"
    },
    "trusted": true
   },
   "outputs": [
    {
     "name": "stdout",
     "output_type": "stream",
     "text": [
      "\u001b[1m4/4\u001b[0m \u001b[32m━━━━━━━━━━━━━━━━━━━━\u001b[0m\u001b[37m\u001b[0m \u001b[1m4s\u001b[0m 693ms/step\n",
      "Confusion Matrix\n",
      "[[54  7]\n",
      " [ 3 57]]\n",
      "Classification Report\n",
      "              precision    recall  f1-score   support\n",
      "\n",
      "      Normal       0.95      0.89      0.92        61\n",
      "   Pneumonia       0.89      0.95      0.92        60\n",
      "\n",
      "    accuracy                           0.92       121\n",
      "   macro avg       0.92      0.92      0.92       121\n",
      "weighted avg       0.92      0.92      0.92       121\n",
      "\n"
     ]
    }
   ],
   "source": [
    "from sklearn.metrics import classification_report, confusion_matrix\n",
    "\n",
    "Y_pred = model.predict(validation_generator)  \n",
    "y_pred = np.argmax(Y_pred, axis=1)\n",
    "\n",
    "print('Confusion Matrix')\n",
    "print(confusion_matrix(validation_generator.classes, y_pred))\n",
    "\n",
    "target_names = ['Normal', 'Pneumonia']\n",
    "print('Classification Report')\n",
    "print(classification_report(validation_generator.classes, y_pred, target_names=target_names))"
   ]
  },
  {
   "cell_type": "code",
   "execution_count": null,
   "metadata": {},
   "outputs": [],
   "source": []
  }
 ],
 "metadata": {
  "kaggle": {
   "accelerator": "gpu",
   "dataSources": [
    {
     "datasetId": 3115000,
     "sourceId": 5392218,
     "sourceType": "datasetVersion"
    }
   ],
   "dockerImageVersionId": 30787,
   "isGpuEnabled": true,
   "isInternetEnabled": true,
   "language": "python",
   "sourceType": "notebook"
  },
  "kernelspec": {
   "display_name": "Interior_v2",
   "language": "python",
   "name": "python3"
  },
  "language_info": {
   "codemirror_mode": {
    "name": "ipython",
    "version": 3
   },
   "file_extension": ".py",
   "mimetype": "text/x-python",
   "name": "python",
   "nbconvert_exporter": "python",
   "pygments_lexer": "ipython3",
   "version": "3.11.7"
  }
 },
 "nbformat": 4,
 "nbformat_minor": 4
}
