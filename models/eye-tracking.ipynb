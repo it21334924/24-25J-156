{
 "cells": [
  {
   "cell_type": "code",
   "execution_count": null,
   "metadata": {
    "execution": {
     "iopub.execute_input": "2024-11-30T12:23:25.615214Z",
     "iopub.status.busy": "2024-11-30T12:23:25.614591Z",
     "iopub.status.idle": "2024-11-30T14:16:31.646284Z",
     "shell.execute_reply": "2024-11-30T14:16:31.645246Z",
     "shell.execute_reply.started": "2024-11-30T12:23:25.615183Z"
    },
    "trusted": true
   },
   "outputs": [
    {
     "name": "stdout",
     "output_type": "stream",
     "text": [
      "test Accuracy: 0.8688275862068966\n"
     ]
    }
   ],
   "source": [
    "import os\n",
    "import cv2\n",
    "import numpy as np\n",
    "from sklearn.model_selection import train_test_split\n",
    "from sklearn.svm import SVC\n",
    "from sklearn.metrics import accuracy_score\n",
    "\n",
    "# Function to load and preprocess images\n",
    "def load_images(path):\n",
    "    images = []\n",
    "    labels = []\n",
    "    label_map = {\n",
    "        \"TopLeft\": 0,\n",
    "        \"TopCenter\": 1,\n",
    "        \"TopRight\": 2,\n",
    "        \"MiddleLeft\": 3,\n",
    "        \"MiddleRight\": 4,\n",
    "        \"BottomLeft\": 5,\n",
    "        \"BottomCenter\": 6,\n",
    "        \"BottomRight\": 7\n",
    "    }\n",
    "    for folder in os.listdir(path):\n",
    "        if os.path.isdir(os.path.join(path, folder)):\n",
    "            label = label_map.get(folder, -1)\n",
    "            if label != -1:\n",
    "                for file in os.listdir(os.path.join(path, folder)):\n",
    "                    image_path = os.path.join(path, folder, file)\n",
    "                    image = cv2.imread(image_path, cv2.IMREAD_GRAYSCALE)\n",
    "                    image = cv2.resize(image, (100, 100))  # Resize image to (100, 100)\n",
    "                    images.append(image.flatten())  # Flatten image and append to images list\n",
    "                    labels.append(label)  # Append label to labels list\n",
    "    return np.array(images), np.array(labels)\n",
    "\n",
    "# Load and preprocess the training dataset\n",
    "X_train, y_train = load_images(\"/eye-gaze-detection/ImprovementSet/ImprovementSet/ImprovementSet\")\n",
    "\n",
    "# Split the training dataset into training and validation sets\n",
    "X_train, X_val, y_train, y_val = train_test_split(X_train, y_train, test_size=0.2, random_state=42)\n",
    "\n",
    "# Train an SVM classifier\n",
    "svm = SVC(kernel='linear')\n",
    "svm.fit(X_train, y_train)\n",
    "\n",
    "# Evaluate the classifier on the validation set\n",
    "y_pred = svm.predict(X_val)\n",
    "accuracy = accuracy_score(y_val, y_pred)\n",
    "print(\"test Accuracy:\", accuracy)"
   ]
  },
  {
   "cell_type": "code",
   "execution_count": 3,
   "metadata": {
    "execution": {
     "iopub.execute_input": "2024-11-30T14:16:31.648142Z",
     "iopub.status.busy": "2024-11-30T14:16:31.647812Z",
     "iopub.status.idle": "2024-11-30T14:16:32.973372Z",
     "shell.execute_reply": "2024-11-30T14:16:32.972389Z",
     "shell.execute_reply.started": "2024-11-30T14:16:31.648122Z"
    },
    "trusted": true
   },
   "outputs": [
    {
     "data": {
      "text/plain": [
       "['svm_model_eye.joblib']"
      ]
     },
     "execution_count": 3,
     "metadata": {},
     "output_type": "execute_result"
    }
   ],
   "source": [
    "from joblib import dump\n",
    "\n",
    "# Save the trained SVM model\n",
    "dump(svm, 'svm_model_eye.joblib')"
   ]
  },
  {
   "cell_type": "code",
   "execution_count": 4,
   "metadata": {
    "execution": {
     "iopub.execute_input": "2024-11-30T14:25:50.346307Z",
     "iopub.status.busy": "2024-11-30T14:25:50.345954Z",
     "iopub.status.idle": "2024-11-30T14:25:51.695120Z",
     "shell.execute_reply": "2024-11-30T14:25:51.694210Z",
     "shell.execute_reply.started": "2024-11-30T14:25:50.346281Z"
    },
    "trusted": true
   },
   "outputs": [
    {
     "data": {
      "text/plain": [
       "['svm_model_eye.pkl']"
      ]
     },
     "execution_count": 4,
     "metadata": {},
     "output_type": "execute_result"
    }
   ],
   "source": [
    "import joblib\n",
    "\n",
    "# Save the model to a file\n",
    "joblib.dump(svm, 'svm_model_eye.pkl')"
   ]
  },
  {
   "cell_type": "code",
   "execution_count": 5,
   "metadata": {
    "execution": {
     "iopub.execute_input": "2024-11-30T14:26:05.048505Z",
     "iopub.status.busy": "2024-11-30T14:26:05.048171Z",
     "iopub.status.idle": "2024-11-30T14:26:06.397252Z",
     "shell.execute_reply": "2024-11-30T14:26:06.396337Z",
     "shell.execute_reply.started": "2024-11-30T14:26:05.048479Z"
    },
    "trusted": true
   },
   "outputs": [
    {
     "data": {
      "text/plain": [
       "['svm_model_eye.h5']"
      ]
     },
     "execution_count": 5,
     "metadata": {},
     "output_type": "execute_result"
    }
   ],
   "source": [
    "joblib.dump(svm, 'svm_model_eye.h5')"
   ]
  },
  {
   "cell_type": "code",
   "execution_count": 6,
   "metadata": {
    "execution": {
     "iopub.execute_input": "2024-11-30T14:28:22.974440Z",
     "iopub.status.busy": "2024-11-30T14:28:22.974093Z",
     "iopub.status.idle": "2024-11-30T14:35:41.191547Z",
     "shell.execute_reply": "2024-11-30T14:35:41.190512Z",
     "shell.execute_reply.started": "2024-11-30T14:28:22.974415Z"
    },
    "trusted": true
   },
   "outputs": [
    {
     "name": "stdout",
     "output_type": "stream",
     "text": [
      "Decision Tree Accuracy: 0.9118620689655172\n"
     ]
    }
   ],
   "source": [
    "from sklearn.tree import DecisionTreeClassifier\n",
    "\n",
    "# Train a Decision Tree classifier\n",
    "dt = DecisionTreeClassifier()\n",
    "dt.fit(X_train, y_train)\n",
    "\n",
    "# Evaluate the classifier on the validation set\n",
    "y_pred_dt = dt.predict(X_val)\n",
    "accuracy_dt = accuracy_score(y_val, y_pred_dt)\n",
    "print(\"Decision Tree Accuracy:\", accuracy_dt)"
   ]
  },
  {
   "cell_type": "code",
   "execution_count": 7,
   "metadata": {
    "execution": {
     "iopub.execute_input": "2024-11-30T14:38:43.831921Z",
     "iopub.status.busy": "2024-11-30T14:38:43.831576Z",
     "iopub.status.idle": "2024-11-30T14:38:43.840402Z",
     "shell.execute_reply": "2024-11-30T14:38:43.839521Z",
     "shell.execute_reply.started": "2024-11-30T14:38:43.831896Z"
    },
    "trusted": true
   },
   "outputs": [
    {
     "data": {
      "text/plain": [
       "['decision_tree_model.pkl']"
      ]
     },
     "execution_count": 7,
     "metadata": {},
     "output_type": "execute_result"
    }
   ],
   "source": [
    "joblib.dump(dt, 'decision_tree_model.pkl')"
   ]
  },
  {
   "cell_type": "code",
   "execution_count": 8,
   "metadata": {
    "execution": {
     "iopub.execute_input": "2024-11-30T14:38:52.385451Z",
     "iopub.status.busy": "2024-11-30T14:38:52.385115Z",
     "iopub.status.idle": "2024-11-30T14:42:57.237932Z",
     "shell.execute_reply": "2024-11-30T14:42:57.236944Z",
     "shell.execute_reply.started": "2024-11-30T14:38:52.385428Z"
    },
    "trusted": true
   },
   "outputs": [
    {
     "name": "stdout",
     "output_type": "stream",
     "text": [
      "Random Forest Accuracy: 0.9375172413793104\n"
     ]
    }
   ],
   "source": [
    "from sklearn.ensemble import RandomForestClassifier\n",
    "# Train a Random Forest classifier\n",
    "rf = RandomForestClassifier()\n",
    "rf.fit(X_train, y_train)\n",
    "\n",
    "# Evaluate the Random Forest classifier on the validation set\n",
    "y_pred_rf = rf.predict(X_val)\n",
    "accuracy_rf = accuracy_score(y_val, y_pred_rf)\n",
    "print(\"Random Forest Accuracy:\", accuracy_rf)"
   ]
  },
  {
   "cell_type": "code",
   "execution_count": 9,
   "metadata": {
    "execution": {
     "iopub.execute_input": "2024-11-30T14:53:24.981033Z",
     "iopub.status.busy": "2024-11-30T14:53:24.980391Z",
     "iopub.status.idle": "2024-11-30T14:53:25.125966Z",
     "shell.execute_reply": "2024-11-30T14:53:25.124946Z",
     "shell.execute_reply.started": "2024-11-30T14:53:24.981005Z"
    },
    "trusted": true
   },
   "outputs": [
    {
     "data": {
      "text/plain": [
       "['random_forest_model.pkl']"
      ]
     },
     "execution_count": 9,
     "metadata": {},
     "output_type": "execute_result"
    }
   ],
   "source": [
    "import joblib\n",
    "\n",
    "# Save the trained model\n",
    "joblib.dump(rf, 'random_forest_model.pkl')"
   ]
  },
  {
   "cell_type": "code",
   "execution_count": 10,
   "metadata": {
    "execution": {
     "iopub.execute_input": "2024-11-30T14:53:51.552522Z",
     "iopub.status.busy": "2024-11-30T14:53:51.551860Z",
     "iopub.status.idle": "2024-11-30T14:53:51.698299Z",
     "shell.execute_reply": "2024-11-30T14:53:51.697495Z",
     "shell.execute_reply.started": "2024-11-30T14:53:51.552496Z"
    },
    "trusted": true
   },
   "outputs": [
    {
     "data": {
      "text/plain": [
       "['random_forest_model.h5']"
      ]
     },
     "execution_count": 10,
     "metadata": {},
     "output_type": "execute_result"
    }
   ],
   "source": [
    "joblib.dump(rf, 'random_forest_model.h5')"
   ]
  }
 ],
 "metadata": {
  "kaggle": {
   "accelerator": "gpu",
   "dataSources": [
    {
     "datasetId": 1199,
     "sourceId": 44357,
     "sourceType": "datasetVersion"
    },
    {
     "datasetId": 610785,
     "sourceId": 1093317,
     "sourceType": "datasetVersion"
    },
    {
     "datasetId": 1151215,
     "sourceId": 1929873,
     "sourceType": "datasetVersion"
    },
    {
     "datasetId": 2725258,
     "sourceId": 4710937,
     "sourceType": "datasetVersion"
    },
    {
     "datasetId": 3538736,
     "sourceId": 6167696,
     "sourceType": "datasetVersion"
    },
    {
     "datasetId": 4573799,
     "sourceId": 7809348,
     "sourceType": "datasetVersion"
    },
    {
     "datasetId": 4573899,
     "sourceId": 7809476,
     "sourceType": "datasetVersion"
    },
    {
     "datasetId": 4574197,
     "sourceId": 7809897,
     "sourceType": "datasetVersion"
    },
    {
     "datasetId": 4574255,
     "sourceId": 7809992,
     "sourceType": "datasetVersion"
    },
    {
     "datasetId": 4574272,
     "sourceId": 7810011,
     "sourceType": "datasetVersion"
    }
   ],
   "dockerImageVersionId": 30665,
   "isGpuEnabled": true,
   "isInternetEnabled": true,
   "language": "python",
   "sourceType": "notebook"
  },
  "kernelspec": {
   "display_name": "Python 3",
   "language": "python",
   "name": "python3"
  },
  "language_info": {
   "codemirror_mode": {
    "name": "ipython",
    "version": 3
   },
   "file_extension": ".py",
   "mimetype": "text/x-python",
   "name": "python",
   "nbconvert_exporter": "python",
   "pygments_lexer": "ipython3",
   "version": "3.10.13"
  }
 },
 "nbformat": 4,
 "nbformat_minor": 4
}
